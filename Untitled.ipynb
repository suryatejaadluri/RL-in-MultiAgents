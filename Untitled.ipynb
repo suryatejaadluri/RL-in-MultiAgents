{
 "cells": [
  {
   "cell_type": "code",
   "execution_count": 1,
   "id": "medium-strategy",
   "metadata": {},
   "outputs": [],
   "source": [
    "import numpy as np"
   ]
  },
  {
   "cell_type": "code",
   "execution_count": 32,
   "id": "enhanced-watch",
   "metadata": {},
   "outputs": [],
   "source": [
    "from cvxopt import matrix, solvers"
   ]
  },
  {
   "cell_type": "code",
   "execution_count": 3,
   "id": "saving-chick",
   "metadata": {},
   "outputs": [],
   "source": [
    "Q = np.ones((8,8,2,5,5))"
   ]
  },
  {
   "cell_type": "code",
   "execution_count": 73,
   "id": "virtual-watson",
   "metadata": {},
   "outputs": [],
   "source": [
    "Q[0][1][0] = np.random.rand(5,5)\n",
    "state = [0,0,0]\n",
    "state[0] = 0\n",
    "state[1] = 1\n",
    "state[2] = 0"
   ]
  },
  {
   "cell_type": "code",
   "execution_count": 74,
   "id": "known-apartment",
   "metadata": {},
   "outputs": [],
   "source": [
    "Z = np.append(np.append(np.ones((5,1)), -Q[state[0]][state[1]][state[2]], axis=1), np.append(np.zeros((5,1)), -np.eye(5), axis=1), axis=0)"
   ]
  },
  {
   "cell_type": "code",
   "execution_count": 75,
   "id": "baking-lebanon",
   "metadata": {},
   "outputs": [
    {
     "data": {
      "text/plain": [
       "array([[ 1.        , -0.18519317, -0.34197001, -0.71891666, -0.83676418,\n",
       "        -0.79866719],\n",
       "       [ 1.        , -0.67009373, -0.77894647, -0.42764547, -0.8599635 ,\n",
       "        -0.31914156],\n",
       "       [ 1.        , -0.38916799, -0.52258505, -0.29159163, -0.81463408,\n",
       "        -0.65053978],\n",
       "       [ 1.        , -0.59358601, -0.99989192, -0.64460481, -0.35118481,\n",
       "        -0.60034256],\n",
       "       [ 1.        , -0.57049684, -0.26044638, -0.72262745, -0.65886427,\n",
       "        -0.59898587],\n",
       "       [ 0.        , -1.        , -0.        , -0.        , -0.        ,\n",
       "        -0.        ],\n",
       "       [ 0.        , -0.        , -1.        , -0.        , -0.        ,\n",
       "        -0.        ],\n",
       "       [ 0.        , -0.        , -0.        , -1.        , -0.        ,\n",
       "        -0.        ],\n",
       "       [ 0.        , -0.        , -0.        , -0.        , -1.        ,\n",
       "        -0.        ],\n",
       "       [ 0.        , -0.        , -0.        , -0.        , -0.        ,\n",
       "        -1.        ]])"
      ]
     },
     "execution_count": 75,
     "metadata": {},
     "output_type": "execute_result"
    }
   ],
   "source": [
    "Z\n"
   ]
  },
  {
   "cell_type": "code",
   "execution_count": 76,
   "id": "eight-sequence",
   "metadata": {},
   "outputs": [
    {
     "data": {
      "text/plain": [
       "array([[-0.18519317, -0.34197001, -0.71891666, -0.83676418, -0.79866719],\n",
       "       [-0.67009373, -0.77894647, -0.42764547, -0.8599635 , -0.31914156],\n",
       "       [-0.38916799, -0.52258505, -0.29159163, -0.81463408, -0.65053978],\n",
       "       [-0.59358601, -0.99989192, -0.64460481, -0.35118481, -0.60034256],\n",
       "       [-0.57049684, -0.26044638, -0.72262745, -0.65886427, -0.59898587]])"
      ]
     },
     "execution_count": 76,
     "metadata": {},
     "output_type": "execute_result"
    }
   ],
   "source": [
    "R = -Q[state[0]][state[1]][state[2]]\n",
    "R"
   ]
  },
  {
   "cell_type": "code",
   "execution_count": 77,
   "id": "brave-difficulty",
   "metadata": {},
   "outputs": [],
   "source": [
    "one = np.ones((5,1))\n",
    "one\n",
    "x = np.hstack((one,R))"
   ]
  },
  {
   "cell_type": "code",
   "execution_count": 79,
   "id": "peaceful-duncan",
   "metadata": {},
   "outputs": [],
   "source": [
    "zeros = np.zeros((5,1))\n",
    "zeros\n",
    "I = np.eye(5)\n",
    "I\n",
    "y = np.hstack((zeros,-I))\n"
   ]
  },
  {
   "cell_type": "code",
   "execution_count": 80,
   "id": "apart-butter",
   "metadata": {},
   "outputs": [],
   "source": [
    "G = matrix(np.vstack((x,y)))"
   ]
  },
  {
   "cell_type": "code",
   "execution_count": 81,
   "id": "imperial-brain",
   "metadata": {},
   "outputs": [],
   "source": [
    "# A = matrix(np.array([[0],[1],[1],[1],[1],[1]])) #sum of pis = 1\n",
    "A = matrix([[0.0],[1.0], [1.0], [1.0], [1.0], [1.0]])\n",
    "B = matrix([1.0])  #sum = 1\n",
    "C = matrix([-1.0,0.0,0.0,0.0,0.0,0.0]) #solution V\n",
    "H = matrix(np.zeros((10,1))) #pi>= 0"
   ]
  },
  {
   "cell_type": "code",
   "execution_count": 82,
   "id": "aboriginal-modeling",
   "metadata": {},
   "outputs": [
    {
     "name": "stdout",
     "output_type": "stream",
     "text": [
      "     pcost       dcost       gap    pres   dres   k/t\n",
      " 0: -5.8731e-01 -5.8731e-01  1e+01  3e+00  1e+01  1e+00\n",
      " 1: -6.0799e-01 -5.8047e-01  3e-01  3e-01  1e+00  1e-01\n",
      " 2: -5.9739e-01 -5.9320e-01  4e-02  5e-02  2e-01  2e-02\n",
      " 3: -5.9387e-01 -5.9341e-01  4e-03  6e-03  2e-02  2e-03\n",
      " 4: -5.9462e-01 -5.9461e-01  5e-05  8e-05  3e-04  3e-05\n",
      " 5: -5.9462e-01 -5.9462e-01  5e-07  8e-07  3e-06  3e-07\n",
      " 6: -5.9462e-01 -5.9462e-01  5e-09  8e-09  3e-08  3e-09\n",
      "Optimal solution found.\n"
     ]
    }
   ],
   "source": [
    "solution = solvers.lp(C,G,H,A,B)"
   ]
  },
  {
   "cell_type": "code",
   "execution_count": 94,
   "id": "heavy-greensboro",
   "metadata": {},
   "outputs": [
    {
     "data": {
      "text/plain": [
       "0.5946240000471296"
      ]
     },
     "execution_count": 94,
     "metadata": {},
     "output_type": "execute_result"
    }
   ],
   "source": [
    "solution['x'][0]"
   ]
  },
  {
   "cell_type": "code",
   "execution_count": 101,
   "id": "crazy-bathroom",
   "metadata": {},
   "outputs": [],
   "source": [
    "Z = np.array(solution['x'])"
   ]
  },
  {
   "cell_type": "code",
   "execution_count": 115,
   "id": "genetic-eight",
   "metadata": {},
   "outputs": [
    {
     "data": {
      "text/plain": [
       "array([0.594624])"
      ]
     },
     "execution_count": 115,
     "metadata": {},
     "output_type": "execute_result"
    }
   ],
   "source": [
    "Z[0]"
   ]
  },
  {
   "cell_type": "code",
   "execution_count": 114,
   "id": "adequate-income",
   "metadata": {},
   "outputs": [
    {
     "data": {
      "text/plain": [
       "array([2.44850015e-08, 1.60212403e-01, 2.46638262e-01, 3.23682840e-01,\n",
       "       2.69466471e-01])"
      ]
     },
     "execution_count": 114,
     "metadata": {},
     "output_type": "execute_result"
    }
   ],
   "source": [
    "pi = Z[1:]\n",
    "pi.reshape((5,))"
   ]
  },
  {
   "cell_type": "code",
   "execution_count": 89,
   "id": "horizontal-toyota",
   "metadata": {},
   "outputs": [
    {
     "data": {
      "text/plain": [
       "array([2.44850015e-08, 1.60212403e-01, 2.46638262e-01, 3.23682840e-01,\n",
       "       2.69466471e-01])"
      ]
     },
     "execution_count": 89,
     "metadata": {},
     "output_type": "execute_result"
    }
   ],
   "source": [
    "np.abs(solution['x'][1:]).reshape((5,)) / sum(np.abs(solution['x'][1:]))"
   ]
  },
  {
   "cell_type": "code",
   "execution_count": 11,
   "id": "linear-republic",
   "metadata": {},
   "outputs": [
    {
     "data": {
      "text/plain": [
       "array([-1.,  0.,  0.,  0.,  0.,  0.])"
      ]
     },
     "execution_count": 11,
     "metadata": {},
     "output_type": "execute_result"
    }
   ],
   "source": [
    "c = np.array([-1.0, 0.0, 0.0, 0.0, 0.0, 0.0])\n",
    "c"
   ]
  },
  {
   "cell_type": "code",
   "execution_count": 12,
   "id": "choice-result",
   "metadata": {},
   "outputs": [],
   "source": [
    "x = np.ones(8)"
   ]
  },
  {
   "cell_type": "code",
   "execution_count": 13,
   "id": "ranging-poster",
   "metadata": {},
   "outputs": [
    {
     "data": {
      "text/plain": [
       "array([1., 1., 1., 1., 1., 1., 1., 1.])"
      ]
     },
     "execution_count": 13,
     "metadata": {},
     "output_type": "execute_result"
    }
   ],
   "source": [
    "x"
   ]
  },
  {
   "cell_type": "code",
   "execution_count": 14,
   "id": "referenced-consumer",
   "metadata": {},
   "outputs": [
    {
     "data": {
      "text/plain": [
       "array([[0.2, 0.2, 0.2, 0.2, 0.2, 0.2, 0.2, 0.2],\n",
       "       [0.2, 0.2, 0.2, 0.2, 0.2, 0.2, 0.2, 0.2],\n",
       "       [0.2, 0.2, 0.2, 0.2, 0.2, 0.2, 0.2, 0.2],\n",
       "       [0.2, 0.2, 0.2, 0.2, 0.2, 0.2, 0.2, 0.2],\n",
       "       [0.2, 0.2, 0.2, 0.2, 0.2, 0.2, 0.2, 0.2],\n",
       "       [0.2, 0.2, 0.2, 0.2, 0.2, 0.2, 0.2, 0.2],\n",
       "       [0.2, 0.2, 0.2, 0.2, 0.2, 0.2, 0.2, 0.2],\n",
       "       [0.2, 0.2, 0.2, 0.2, 0.2, 0.2, 0.2, 0.2]])"
      ]
     },
     "execution_count": 14,
     "metadata": {},
     "output_type": "execute_result"
    }
   ],
   "source": [
    "np.full((8,8),1/5)"
   ]
  },
  {
   "cell_type": "code",
   "execution_count": 15,
   "id": "upper-daily",
   "metadata": {},
   "outputs": [
    {
     "data": {
      "text/plain": [
       "array([0, 1, 2, 3, 4])"
      ]
     },
     "execution_count": 15,
     "metadata": {},
     "output_type": "execute_result"
    }
   ],
   "source": [
    "np.arange(5)"
   ]
  },
  {
   "cell_type": "code",
   "execution_count": 16,
   "id": "advised-cooperative",
   "metadata": {},
   "outputs": [
    {
     "data": {
      "text/plain": [
       "array([2])"
      ]
     },
     "execution_count": 16,
     "metadata": {},
     "output_type": "execute_result"
    }
   ],
   "source": [
    "np.random.choice(5,1)"
   ]
  },
  {
   "cell_type": "code",
   "execution_count": 131,
   "id": "green-overview",
   "metadata": {},
   "outputs": [
    {
     "data": {
      "text/plain": [
       "0.999997697417558"
      ]
     },
     "execution_count": 131,
     "metadata": {},
     "output_type": "execute_result"
    }
   ],
   "source": [
    "10 ** (np.log10(0.001) / int(1e6))"
   ]
  },
  {
   "cell_type": "code",
   "execution_count": 155,
   "id": "fundamental-committee",
   "metadata": {},
   "outputs": [
    {
     "data": {
      "text/plain": [
       "array([2])"
      ]
     },
     "execution_count": 155,
     "metadata": {},
     "output_type": "execute_result"
    }
   ],
   "source": [
    "np.random.choice(5,1,[0.3,0.1,0.1,0.1,0.4])"
   ]
  },
  {
   "cell_type": "code",
   "execution_count": null,
   "id": "living-software",
   "metadata": {},
   "outputs": [],
   "source": []
  }
 ],
 "metadata": {
  "kernelspec": {
   "display_name": "Python 3",
   "language": "python",
   "name": "python3"
  },
  "language_info": {
   "codemirror_mode": {
    "name": "ipython",
    "version": 3
   },
   "file_extension": ".py",
   "mimetype": "text/x-python",
   "name": "python",
   "nbconvert_exporter": "python",
   "pygments_lexer": "ipython3",
   "version": "3.8.8"
  }
 },
 "nbformat": 4,
 "nbformat_minor": 5
}
